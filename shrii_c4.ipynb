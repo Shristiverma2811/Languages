{
  "nbformat": 4,
  "nbformat_minor": 0,
  "metadata": {
    "colab": {
      "provenance": []
    },
    "kernelspec": {
      "name": "python3",
      "display_name": "Python 3"
    },
    "language_info": {
      "name": "python"
    }
  },
  "cells": [
    {
      "cell_type": "code",
      "execution_count": null,
      "metadata": {
        "id": "uTqmTX4pFshP"
      },
      "outputs": [],
      "source": [
        "#tuple"
      ]
    },
    {
      "cell_type": "code",
      "source": [
        "t1=(1,2,3,4,5)\n",
        "t1"
      ],
      "metadata": {
        "colab": {
          "base_uri": "https://localhost:8080/"
        },
        "id": "tzvmKn0wRmk-",
        "outputId": "34b044f1-aea9-4883-ae0f-b1c1776114a9"
      },
      "execution_count": null,
      "outputs": [
        {
          "output_type": "execute_result",
          "data": {
            "text/plain": [
              "(1, 2, 3, 4, 5)"
            ]
          },
          "metadata": {},
          "execution_count": 2
        }
      ]
    },
    {
      "cell_type": "code",
      "source": [
        "max(t1)"
      ],
      "metadata": {
        "colab": {
          "base_uri": "https://localhost:8080/"
        },
        "id": "rTdJ-S59Rrdg",
        "outputId": "db563ca6-ce8a-44f4-88ed-9f26385a8305"
      },
      "execution_count": null,
      "outputs": [
        {
          "output_type": "execute_result",
          "data": {
            "text/plain": [
              "5"
            ]
          },
          "metadata": {},
          "execution_count": 3
        }
      ]
    },
    {
      "cell_type": "code",
      "source": [
        "min(t1)"
      ],
      "metadata": {
        "colab": {
          "base_uri": "https://localhost:8080/"
        },
        "id": "I6NLpqwbRuCq",
        "outputId": "36f39f53-1816-4453-b11b-f9703b4292a3"
      },
      "execution_count": null,
      "outputs": [
        {
          "output_type": "execute_result",
          "data": {
            "text/plain": [
              "1"
            ]
          },
          "metadata": {},
          "execution_count": 5
        }
      ]
    },
    {
      "cell_type": "code",
      "source": [
        "#import scarpy\n"
      ],
      "metadata": {
        "id": "t0gUt0_8Rzsn"
      },
      "execution_count": null,
      "outputs": []
    },
    {
      "cell_type": "code",
      "source": [
        "i=0\n",
        "while True:\n",
        "  if i+1 < 5:\n",
        "    i=i+1\n",
        "    continue\n",
        "  print(i+1,end=\" \")\n",
        "  if(i==30):\n",
        "    break\n",
        "  i=i+1"
      ],
      "metadata": {
        "id": "gHTk32yoTCJ6"
      },
      "execution_count": null,
      "outputs": []
    },
    {
      "cell_type": "code",
      "source": [
        "#section a question 1\n",
        "i=1\n",
        "while(i<=10):\n",
        "  print(i)\n",
        "  i=i+1\n"
      ],
      "metadata": {
        "colab": {
          "base_uri": "https://localhost:8080/"
        },
        "id": "5GpKTSX-9Uwy",
        "outputId": "4497505d-95a1-40cd-d939-973262c54145"
      },
      "execution_count": null,
      "outputs": [
        {
          "output_type": "stream",
          "name": "stdout",
          "text": [
            "1\n",
            "2\n",
            "3\n",
            "4\n",
            "5\n",
            "6\n",
            "7\n",
            "8\n",
            "9\n",
            "10\n"
          ]
        }
      ]
    },
    {
      "cell_type": "code",
      "source": [
        "# Section a question 2\n",
        "n=5 \n",
        "  \n",
        "i=1;j=1\n",
        "while(i<=n):\n",
        "    while(j<=i):\n",
        "        print( j ,end=\"  \") \n",
        "        j+=1 \n",
        "    print(\"\\r\") \n",
        "    j=1;i+=1 "
      ],
      "metadata": {
        "colab": {
          "base_uri": "https://localhost:8080/"
        },
        "id": "6ultkHzS96WQ",
        "outputId": "8c3665d0-b7a8-4f0b-9b53-31a3c17eda93"
      },
      "execution_count": null,
      "outputs": [
        {
          "output_type": "stream",
          "name": "stdout",
          "text": [
            "1  \r\n",
            "1  2  \r\n",
            "1  2  3  \r\n",
            "1  2  3  4  \r\n",
            "1  2  3  4  5  \r\n"
          ]
        }
      ]
    },
    {
      "cell_type": "code",
      "source": [
        "#Section A question 3\n",
        "n = int(input(\"Enter the number\"))\n",
        "i=1\n",
        "sum = 0;\n",
        "while(i<=n):\n",
        "  sum = sum + i\n",
        "  i=i+1\n",
        "print(sum )"
      ],
      "metadata": {
        "colab": {
          "base_uri": "https://localhost:8080/"
        },
        "id": "p_4lyGCs-rkF",
        "outputId": "74206f1a-1ca2-46e9-d609-6589ffce7dc4"
      },
      "execution_count": null,
      "outputs": [
        {
          "output_type": "stream",
          "name": "stdout",
          "text": [
            "Enter the number 5\n",
            "15\n"
          ]
        }
      ]
    },
    {
      "cell_type": "code",
      "source": [
        "#section a question 4\n",
        "n = int(input(\"Enter the number\"))\n",
        "i=1\n",
        "while(i<=10):\n",
        "  print(n, \" * \" , i ,\" = \", n*i)\n",
        "  i=i+1\n",
        "  print(\"\\r\")"
      ],
      "metadata": {
        "colab": {
          "base_uri": "https://localhost:8080/"
        },
        "id": "n6HcLLqHCtmd",
        "outputId": "da5bdcd8-980f-4826-8b93-65bad3ca65b8"
      },
      "execution_count": null,
      "outputs": [
        {
          "output_type": "stream",
          "name": "stdout",
          "text": [
            "Enter the number 6\n",
            "6  *  1  =  6\n",
            "\n",
            "6  *  2  =  12\n",
            "\n",
            "6  *  3  =  18\n",
            "\n",
            "6  *  4  =  24\n",
            "\n",
            "6  *  5  =  30\n",
            "\n",
            "6  *  6  =  36\n",
            "\n",
            "6  *  7  =  42\n",
            "\n",
            "6  *  8  =  48\n",
            "\n",
            "6  *  9  =  54\n",
            "\n",
            "6  *  10  =  60\n",
            "\n"
          ]
        }
      ]
    },
    {
      "cell_type": "code",
      "source": [
        "#Section A question 6\n",
        "n = int(input(\"Enter the number \"))\n",
        "count = 0\n",
        "while(n!=0):\n",
        "  n= n//10\n",
        "  count = count + 1\n",
        "print(count)\n",
        "\n"
      ],
      "metadata": {
        "colab": {
          "base_uri": "https://localhost:8080/"
        },
        "id": "vKOwe8Y6DUSR",
        "outputId": "355bb969-fc3e-4eb3-cc67-c2feb9f1fe95"
      },
      "execution_count": null,
      "outputs": [
        {
          "output_type": "stream",
          "name": "stdout",
          "text": [
            "Enter the number 4536\n",
            "4\n"
          ]
        }
      ]
    },
    {
      "cell_type": "code",
      "source": [
        "# Section a question 7 \n",
        "for i in range(0, 5 + 1):  \n",
        "    for j in range(5- i, 0, -1):  \n",
        "        print(j, end=' ')  \n",
        "    print()  \n"
      ],
      "metadata": {
        "colab": {
          "base_uri": "https://localhost:8080/"
        },
        "id": "OADVUJKYDwiw",
        "outputId": "7ecd6a1f-d480-4b01-c45c-14d185a95f48"
      },
      "execution_count": null,
      "outputs": [
        {
          "output_type": "stream",
          "name": "stdout",
          "text": [
            "5 4 3 2 1 \n",
            "4 3 2 1 \n",
            "3 2 1 \n",
            "2 1 \n",
            "1 \n",
            "\n"
          ]
        }
      ]
    },
    {
      "cell_type": "code",
      "source": [
        "# Section a question 9\n",
        "i = -10\n",
        "while(i<=-1):\n",
        "  print(i)\n",
        "  i=i+1"
      ],
      "metadata": {
        "id": "aDeC6MnSEJMl",
        "colab": {
          "base_uri": "https://localhost:8080/"
        },
        "outputId": "aad87635-04f9-4c1d-b161-a21d62251e67"
      },
      "execution_count": null,
      "outputs": [
        {
          "output_type": "stream",
          "name": "stdout",
          "text": [
            "-10\n",
            "-9\n",
            "-8\n",
            "-7\n",
            "-6\n",
            "-5\n",
            "-4\n",
            "-3\n",
            "-2\n",
            "-1\n"
          ]
        }
      ]
    },
    {
      "cell_type": "code",
      "source": [
        "# Section a question 10\n",
        "for i in range(1, 4):\n",
        "    print()\n",
        "else:\n",
        "    print(\"Done\")\n",
        "    "
      ],
      "metadata": {
        "id": "9OzhUI4TEiGf",
        "colab": {
          "base_uri": "https://localhost:8080/"
        },
        "outputId": "93edae76-7e69-4b8a-e5c1-2793664ac112"
      },
      "execution_count": null,
      "outputs": [
        {
          "output_type": "stream",
          "name": "stdout",
          "text": [
            "\n",
            "\n",
            "\n",
            "Done\n"
          ]
        }
      ]
    },
    {
      "cell_type": "code",
      "source": [
        "#Section A question 11\n",
        "n = int(input(\"Enter a number: \"))\n",
        "for num in range(1, n + 1):\n",
        "   if num > 1:\n",
        "       for i in range(2, num):\n",
        "           if (num % i) == 0:\n",
        "               break\n",
        "       else:\n",
        "           print(num)\n"
      ],
      "metadata": {
        "id": "FCNTlA4tFg_z",
        "colab": {
          "base_uri": "https://localhost:8080/"
        },
        "outputId": "70cca6a7-e6be-45f9-d56b-e8a833666486"
      },
      "execution_count": null,
      "outputs": [
        {
          "output_type": "stream",
          "name": "stdout",
          "text": [
            "Enter a number: 10\n",
            "2\n",
            "3\n",
            "5\n",
            "7\n"
          ]
        }
      ]
    },
    {
      "cell_type": "code",
      "source": [
        "#section A question 12\n",
        "\n",
        "n = int(input(\"Enter the number \"))\n",
        "n1, n2 = 0, 1\n",
        "count = 0\n",
        "if n == 1:\n",
        "   print(n1)\n",
        "else:\n",
        "      while count < n:\n",
        "       print(n1)\n",
        "       nth = n1 + n2\n",
        "       n1 = n2\n",
        "       n2 = nth\n",
        "       count += 1\n"
      ],
      "metadata": {
        "id": "UGZWkyBFHDyH",
        "colab": {
          "base_uri": "https://localhost:8080/"
        },
        "outputId": "26036a09-4f42-4401-df62-58d5db8e84b4"
      },
      "execution_count": null,
      "outputs": [
        {
          "output_type": "stream",
          "name": "stdout",
          "text": [
            "Enter the number 10\n",
            "0\n",
            "1\n",
            "1\n",
            "2\n",
            "3\n",
            "5\n",
            "8\n",
            "13\n",
            "21\n",
            "34\n"
          ]
        }
      ]
    },
    {
      "cell_type": "code",
      "source": [
        "#Section A question 13\n",
        "n = int(input(\"ENter the number  \"))\n",
        "fact = 1\n",
        "if n == 0:\n",
        "   print(\"1\")\n",
        "else:\n",
        "   for i in range(1,n+ 1):\n",
        "       fact = fact*i\n",
        "   print(\"The factorial of\",n,\" = \",fact)\n"
      ],
      "metadata": {
        "colab": {
          "base_uri": "https://localhost:8080/"
        },
        "id": "tawUcyr0M_Kn",
        "outputId": "a4ed1ebe-11cd-48ed-fa8f-2c9c598d56b0"
      },
      "execution_count": null,
      "outputs": [
        {
          "output_type": "stream",
          "name": "stdout",
          "text": [
            "ENter the number  5\n",
            "The factorial of 5  =  120\n"
          ]
        }
      ]
    },
    {
      "cell_type": "code",
      "source": [
        "#section A question 16\n",
        "n = int(input(\"ENter the number  \"))\n",
        "for i in range (1 , n):\n",
        "  print(i ,\" ^3  = \",  i*i*i)"
      ],
      "metadata": {
        "colab": {
          "base_uri": "https://localhost:8080/"
        },
        "id": "ft_Upw4ANz1w",
        "outputId": "7b6b7576-50fa-413b-9823-f441c5deffd0"
      },
      "execution_count": null,
      "outputs": [
        {
          "output_type": "stream",
          "name": "stdout",
          "text": [
            "ENter the number  5\n",
            "1  ^3  =  1\n",
            "2  ^3  =  8\n",
            "3  ^3  =  27\n",
            "4  ^3  =  64\n"
          ]
        }
      ]
    },
    {
      "cell_type": "code",
      "source": [
        "#section A question 17\n",
        "n = int(input(\"Enter the no of terms  \"))\n",
        "i=1\n",
        "a=int(input(\"Enter the no to repeat \"))\n",
        "sum=0\n",
        "while i <= n:\n",
        "    j=1\n",
        "    while j <= i:\n",
        "        print( a ,end ='')\n",
        "        j=j+1\n",
        "    print()\n",
        "    i=i+1\n",
        "print(\"sum of terms is \" ,sum)"
      ],
      "metadata": {
        "colab": {
          "base_uri": "https://localhost:8080/"
        },
        "id": "w3bofJEXOjb_",
        "outputId": "76cb3cd5-2315-42ef-8103-701b44d97fc2"
      },
      "execution_count": null,
      "outputs": [
        {
          "output_type": "stream",
          "name": "stdout",
          "text": [
            "Enter the no of terms  2\n",
            "Enter the no to repeat 1\n",
            "1\n",
            "11\n",
            "sum of terms is  3\n"
          ]
        }
      ]
    },
    {
      "cell_type": "code",
      "source": [
        "#Section A question 18\n",
        "for i in range(0, 5):\n",
        "    for j in range(0, i + 1):\n",
        "        print(\"*\", end=' ')\n",
        "    print(\" \")\n",
        "for i in range(4 + 1, 0, -1):\n",
        "    for j in range(0, i - 1):\n",
        "        print(\"*\", end=' ')\n",
        "    print(\" \")"
      ],
      "metadata": {
        "colab": {
          "base_uri": "https://localhost:8080/"
        },
        "id": "KSjhOIbWcZu2",
        "outputId": "83781ffa-3933-4f66-f585-a46ba5fc6df4"
      },
      "execution_count": null,
      "outputs": [
        {
          "output_type": "stream",
          "name": "stdout",
          "text": [
            "*  \n",
            "* *  \n",
            "* * *  \n",
            "* * * *  \n",
            "* * * * *  \n",
            "* * * *  \n",
            "* * *  \n",
            "* *  \n",
            "*  \n",
            " \n"
          ]
        }
      ]
    },
    {
      "cell_type": "code",
      "source": [
        "#Section A ans 8\n",
        "list1 = [10, 20, 30, 40, 50]\n",
        "new_list = reversed(list1)\n",
        "for item in new_list:\n",
        "    print(item)\n",
        "\n",
        "\n"
      ],
      "metadata": {
        "colab": {
          "base_uri": "https://localhost:8080/"
        },
        "id": "wZeYpy8ngdn5",
        "outputId": "37ad1efa-6f26-4df9-d585-03a5045fc0f5"
      },
      "execution_count": null,
      "outputs": [
        {
          "output_type": "stream",
          "name": "stdout",
          "text": [
            "50\n",
            "40\n",
            "30\n",
            "20\n",
            "10\n"
          ]
        }
      ]
    },
    {
      "cell_type": "code",
      "source": [],
      "metadata": {
        "id": "pXKhnrLrj_fh"
      },
      "execution_count": null,
      "outputs": []
    }
  ]
}